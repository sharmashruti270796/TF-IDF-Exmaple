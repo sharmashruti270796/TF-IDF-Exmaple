{
 "cells": [
  {
   "cell_type": "code",
   "execution_count": 1,
   "metadata": {},
   "outputs": [],
   "source": [
    "from sklearn.model_selection import train_test_split\n",
    "from sklearn.feature_extraction.text import CountVectorizer\n",
    "from sklearn.feature_extraction.text import TfidfVectorizer\n",
    "from scipy.sparse import hstack\n",
    "from sklearn.naive_bayes import MultinomialNB\n",
    "from sklearn.metrics import roc_auc_score\n",
    "from sklearn.model_selection import GridSearchCV\n",
    "from sklearn.model_selection import RandomizedSearchCV\n",
    "import math\n",
    "import matplotlib.pyplot as plt\n",
    "import pandas as pd\n",
    "from sklearn.preprocessing import Normalizer\n",
    "from sklearn.metrics import roc_curve, auc\n",
    "from sklearn.metrics import confusion_matrix\n",
    "import seaborn as sns\n",
    "import numpy as np\n",
    "from prettytable import PrettyTable\n",
    "from tabulate import tabulate"
   ]
  },
  {
   "cell_type": "markdown",
   "metadata": {},
   "source": [
    "## Load Data"
   ]
  },
  {
   "cell_type": "code",
   "execution_count": 2,
   "metadata": {},
   "outputs": [
    {
     "data": {
      "text/html": [
       "<div>\n",
       "<style scoped>\n",
       "    .dataframe tbody tr th:only-of-type {\n",
       "        vertical-align: middle;\n",
       "    }\n",
       "\n",
       "    .dataframe tbody tr th {\n",
       "        vertical-align: top;\n",
       "    }\n",
       "\n",
       "    .dataframe thead th {\n",
       "        text-align: right;\n",
       "    }\n",
       "</style>\n",
       "<table border=\"1\" class=\"dataframe\">\n",
       "  <thead>\n",
       "    <tr style=\"text-align: right;\">\n",
       "      <th></th>\n",
       "      <th>school_state</th>\n",
       "      <th>teacher_prefix</th>\n",
       "      <th>project_grade_category</th>\n",
       "      <th>teacher_number_of_previously_posted_projects</th>\n",
       "      <th>project_is_approved</th>\n",
       "      <th>clean_categories</th>\n",
       "      <th>clean_subcategories</th>\n",
       "      <th>essay</th>\n",
       "      <th>price</th>\n",
       "    </tr>\n",
       "  </thead>\n",
       "  <tbody>\n",
       "    <tr>\n",
       "      <th>0</th>\n",
       "      <td>ca</td>\n",
       "      <td>mrs</td>\n",
       "      <td>grades_prek_2</td>\n",
       "      <td>53</td>\n",
       "      <td>1</td>\n",
       "      <td>math_science</td>\n",
       "      <td>appliedsciences health_lifescience</td>\n",
       "      <td>i fortunate enough use fairy tale stem kits cl...</td>\n",
       "      <td>725.05</td>\n",
       "    </tr>\n",
       "    <tr>\n",
       "      <th>1</th>\n",
       "      <td>ut</td>\n",
       "      <td>ms</td>\n",
       "      <td>grades_3_5</td>\n",
       "      <td>4</td>\n",
       "      <td>1</td>\n",
       "      <td>specialneeds</td>\n",
       "      <td>specialneeds</td>\n",
       "      <td>imagine 8 9 years old you third grade classroo...</td>\n",
       "      <td>213.03</td>\n",
       "    </tr>\n",
       "    <tr>\n",
       "      <th>2</th>\n",
       "      <td>ca</td>\n",
       "      <td>mrs</td>\n",
       "      <td>grades_prek_2</td>\n",
       "      <td>10</td>\n",
       "      <td>1</td>\n",
       "      <td>literacy_language</td>\n",
       "      <td>literacy</td>\n",
       "      <td>having class 24 students comes diverse learner...</td>\n",
       "      <td>329.00</td>\n",
       "    </tr>\n",
       "    <tr>\n",
       "      <th>3</th>\n",
       "      <td>ga</td>\n",
       "      <td>mrs</td>\n",
       "      <td>grades_prek_2</td>\n",
       "      <td>2</td>\n",
       "      <td>1</td>\n",
       "      <td>appliedlearning</td>\n",
       "      <td>earlydevelopment</td>\n",
       "      <td>i recently read article giving students choice...</td>\n",
       "      <td>481.04</td>\n",
       "    </tr>\n",
       "    <tr>\n",
       "      <th>4</th>\n",
       "      <td>wa</td>\n",
       "      <td>mrs</td>\n",
       "      <td>grades_3_5</td>\n",
       "      <td>2</td>\n",
       "      <td>1</td>\n",
       "      <td>literacy_language</td>\n",
       "      <td>literacy</td>\n",
       "      <td>my students crave challenge eat obstacles brea...</td>\n",
       "      <td>17.74</td>\n",
       "    </tr>\n",
       "  </tbody>\n",
       "</table>\n",
       "</div>"
      ],
      "text/plain": [
       "  school_state teacher_prefix project_grade_category  \\\n",
       "0           ca            mrs          grades_prek_2   \n",
       "1           ut             ms             grades_3_5   \n",
       "2           ca            mrs          grades_prek_2   \n",
       "3           ga            mrs          grades_prek_2   \n",
       "4           wa            mrs             grades_3_5   \n",
       "\n",
       "   teacher_number_of_previously_posted_projects  project_is_approved  \\\n",
       "0                                            53                    1   \n",
       "1                                             4                    1   \n",
       "2                                            10                    1   \n",
       "3                                             2                    1   \n",
       "4                                             2                    1   \n",
       "\n",
       "    clean_categories                 clean_subcategories  \\\n",
       "0       math_science  appliedsciences health_lifescience   \n",
       "1       specialneeds                        specialneeds   \n",
       "2  literacy_language                            literacy   \n",
       "3    appliedlearning                    earlydevelopment   \n",
       "4  literacy_language                            literacy   \n",
       "\n",
       "                                               essay   price  \n",
       "0  i fortunate enough use fairy tale stem kits cl...  725.05  \n",
       "1  imagine 8 9 years old you third grade classroo...  213.03  \n",
       "2  having class 24 students comes diverse learner...  329.00  \n",
       "3  i recently read article giving students choice...  481.04  \n",
       "4  my students crave challenge eat obstacles brea...   17.74  "
      ]
     },
     "execution_count": 2,
     "metadata": {},
     "output_type": "execute_result"
    }
   ],
   "source": [
    "data = pd.read_csv('preprocessed_data.csv')\n",
    "data.head()"
   ]
  },
  {
   "cell_type": "markdown",
   "metadata": {},
   "source": [
    "<h2>1.2 Splitting data into Train and cross validation: Stratified Sampling</h2>"
   ]
  },
  {
   "cell_type": "markdown",
   "metadata": {},
   "source": [
    "x=data.drop(['project_is_approved'],axis=1)\n",
    "y=data['project_is_approved']\n",
    "x_train,x_test,y_train,y_test=train_test_split(x,y,test_size=0.33,stratify=y)\n",
    "print(x_train.shape,y_train.shape)\n",
    "print(x_test.shape,y_test.shape)"
   ]
  },
  {
   "cell_type": "markdown",
   "metadata": {},
   "source": [
    "<h2>1.3 Make Data Model Ready: encoding eassay, and project_title</h2>\n"
   ]
  },
  {
   "cell_type": "code",
   "execution_count": 6,
   "metadata": {},
   "outputs": [],
   "source": [
    "vectorizer=CountVectorizer()\n",
    "vectorizer.fit(x_train['essay'])\n",
    "bow_train_essay=vectorizer.transform(x_train['essay'])\n",
    "bow_test_essay=vectorizer.transform(x_test['essay'])"
   ]
  },
  {
   "cell_type": "code",
   "execution_count": 7,
   "metadata": {},
   "outputs": [],
   "source": [
    "tfidf=TfidfVectorizer()"
   ]
  },
  {
   "cell_type": "code",
   "execution_count": 8,
   "metadata": {},
   "outputs": [],
   "source": [
    "tfidf.fit(x_train['essay'])\n",
    "tfidf_train_essay=tfidf.transform(x_train['essay'])\n",
    "tfidf_test_essay=tfidf.transform(x_test['essay'])"
   ]
  },
  {
   "cell_type": "markdown",
   "metadata": {},
   "source": [
    "<h2>1.4 Make Data Model Ready: encoding numerical, categorical features</h2>"
   ]
  },
  {
   "cell_type": "markdown",
   "metadata": {},
   "source": [
    "<h3>1.4.1 encoding categorical features: School State</h3>"
   ]
  },
  {
   "cell_type": "code",
   "execution_count": 10,
   "metadata": {},
   "outputs": [],
   "source": [
    "vectorizer.fit(x_train['school_state'])\n",
    "bow_train_school=vectorizer.transform(x_train['school_state'])\n",
    "bow_test_school=vectorizer.transform(x_test['school_state'])"
   ]
  },
  {
   "cell_type": "code",
   "execution_count": 11,
   "metadata": {},
   "outputs": [],
   "source": [
    "tfidf.fit(x_train['school_state'])\n",
    "tfidf_train_school=tfidf.transform(x_train['school_state'])\n",
    "tfidf_test_school=tfidf.transform(x_test['school_state'])"
   ]
  },
  {
   "cell_type": "markdown",
   "metadata": {},
   "source": [
    "<h3>1.4.2 encoding categorical features: teacher_prefix</h3>"
   ]
  },
  {
   "cell_type": "code",
   "execution_count": 12,
   "metadata": {},
   "outputs": [],
   "source": [
    "vectorizer.fit(x_train['teacher_prefix'])\n",
    "bow_train_teacher_prefix=vectorizer.transform(x_train['teacher_prefix'])\n",
    "bow_test_teacher_prefix=vectorizer.transform(x_test['teacher_prefix'])"
   ]
  },
  {
   "cell_type": "code",
   "execution_count": 13,
   "metadata": {},
   "outputs": [],
   "source": [
    "tfidf.fit(x_train['teacher_prefix'])\n",
    "tfidf_train_teacher_prefix=tfidf.transform(x_train['teacher_prefix'])\n",
    "tfidf_test_teacher_prefix=tfidf.transform(x_test['teacher_prefix'])"
   ]
  },
  {
   "cell_type": "markdown",
   "metadata": {},
   "source": [
    "<h3>1.4.3 encoding categorical features: project_grade_category</h3>"
   ]
  },
  {
   "cell_type": "code",
   "execution_count": 14,
   "metadata": {},
   "outputs": [],
   "source": [
    "vectorizer.fit(x_train['project_grade_category'])\n",
    "bow_train_project_grade_category=vectorizer.transform(x_train['project_grade_category'])\n",
    "bow_test_project_grade_category=vectorizer.transform(x_test['project_grade_category'])"
   ]
  },
  {
   "cell_type": "code",
   "execution_count": 15,
   "metadata": {},
   "outputs": [],
   "source": [
    "tfidf.fit(x_train['project_grade_category'])\n",
    "tfidf_train_project_grade_category=tfidf.transform(x_train['project_grade_category'])\n",
    "tfidf_test_project_grade_category=tfidf.transform(x_test['project_grade_category'])"
   ]
  },
  {
   "cell_type": "markdown",
   "metadata": {},
   "source": [
    "<h3>1.4.4 encoding categorical features: clean_categories</h3>"
   ]
  },
  {
   "cell_type": "code",
   "execution_count": 16,
   "metadata": {},
   "outputs": [],
   "source": [
    "vectorizer.fit(x_train['clean_categories'])\n",
    "bow_train_clean_categories=vectorizer.transform(x_train['clean_categories'])\n",
    "bow_test_clean_categories=vectorizer.transform(x_test['clean_categories'])"
   ]
  },
  {
   "cell_type": "code",
   "execution_count": 17,
   "metadata": {},
   "outputs": [],
   "source": [
    "tfidf.fit(x_train['clean_categories'])\n",
    "tfidf_train_clean_categories=tfidf.transform(x_train['clean_categories'])\n",
    "tfidf_test_clean_categories=tfidf.transform(x_test['clean_categories'])"
   ]
  },
  {
   "cell_type": "markdown",
   "metadata": {},
   "source": [
    "<h3>1.4.5 encoding categorical features: clean_subcategories</h3>"
   ]
  },
  {
   "cell_type": "code",
   "execution_count": 18,
   "metadata": {},
   "outputs": [],
   "source": [
    "vectorizer.fit(x_train['clean_subcategories'])\n",
    "bow_train_clean_subcategories=vectorizer.transform(x_train['clean_subcategories'])\n",
    "bow_test_clean_subcategories=vectorizer.transform(x_test['clean_subcategories'])"
   ]
  },
  {
   "cell_type": "code",
   "execution_count": 19,
   "metadata": {},
   "outputs": [],
   "source": [
    "tfidf.fit(x_train['clean_subcategories'])\n",
    "tfidf_train_clean_subcategories=tfidf.transform(x_train['clean_subcategories'])\n",
    "tfidf_test_clean_subcategories=tfidf.transform(x_test['clean_subcategories'])"
   ]
  },
  {
   "cell_type": "markdown",
   "metadata": {},
   "source": [
    "<h3>1.4.6 encoding numerical features: price</h3>"
   ]
  },
  {
   "cell_type": "code",
   "execution_count": 20,
   "metadata": {},
   "outputs": [],
   "source": [
    "standard=Normalizer()\n",
    "standard.fit(x_train['price'].values.reshape(1,-1))\n",
    "x_train_price=standard.transform(x_train['price'].values.reshape(1,-1))\n",
    "x_test_price=standard.transform(x_test['price'].values.reshape(1,-1))\n",
    "x_train_price=x_train_price.reshape(-1,1)\n",
    "x_test_price=x_test_price.reshape(-1,1)"
   ]
  },
  {
   "cell_type": "markdown",
   "metadata": {},
   "source": [
    "<h3>1.4.7 encoding numerical features:  teacher_number_of_previously_posted_projects</h3>\n"
   ]
  },
  {
   "cell_type": "code",
   "execution_count": 21,
   "metadata": {},
   "outputs": [],
   "source": [
    "standard.fit(x_train['teacher_number_of_previously_posted_projects'].values.reshape(1,-1))\n",
    "x_train_teacher_number_of_previously_posted_projects=standard.transform(x_train['teacher_number_of_previously_posted_projects'].values.reshape(1,-1))\n",
    "x_test_teacher_number_of_previously_posted_projects=standard.transform(x_test['teacher_number_of_previously_posted_projects'].values.reshape(1,-1))\n",
    "x_train_teacher_number_of_previously_posted_projects=x_train_teacher_number_of_previously_posted_projects.reshape(-1,1)\n",
    "x_test_teacher_number_of_previously_posted_projects=x_test_teacher_number_of_previously_posted_projects.reshape(-1,1)"
   ]
  },
  {
   "cell_type": "markdown",
   "metadata": {},
   "source": [
    "<h3>1.4.8 Concatinating all the features</h3>"
   ]
  },
  {
   "cell_type": "code",
   "execution_count": 22,
   "metadata": {},
   "outputs": [],
   "source": [
    "bow_tr=hstack((bow_train_school,bow_train_teacher_prefix,bow_train_project_grade_category,x_train_teacher_number_of_previously_posted_projects,bow_train_clean_categories,bow_train_clean_subcategories,bow_train_essay,x_train_price)).tocsr()\n",
    "bow_test=hstack((bow_test_school,bow_test_teacher_prefix,bow_test_project_grade_category,x_test_teacher_number_of_previously_posted_projects,bow_test_clean_categories,bow_test_clean_subcategories,bow_test_essay,x_test_price)).tocsr()\n",
    "tfidf_tr=hstack((tfidf_train_school,tfidf_train_teacher_prefix,tfidf_train_project_grade_category,x_train_teacher_number_of_previously_posted_projects,tfidf_train_clean_categories,tfidf_train_clean_subcategories,tfidf_train_essay,x_train_price)).tocsr()\n",
    "tfidf_test=hstack((tfidf_test_school,tfidf_test_teacher_prefix,tfidf_test_project_grade_category,x_test_teacher_number_of_previously_posted_projects,tfidf_test_clean_categories,tfidf_test_clean_subcategories,tfidf_test_essay,x_test_price)).tocsr()"
   ]
  },
  {
   "cell_type": "markdown",
   "metadata": {},
   "source": [
    "# Bow Featurization\n"
   ]
  },
  {
   "cell_type": "code",
   "execution_count": 23,
   "metadata": {},
   "outputs": [
    {
     "data": {
      "text/plain": [
       "GridSearchCV(cv=3, estimator=MultinomialNB(class_prior=[0.5, 0.5]),\n",
       "             param_grid={'alpha': [1e-05, 0.0005, 0.0001, 0.005, 0.001, 0.05,\n",
       "                                   0.01, 0.1, 0.5, 1, 5, 10, 50, 100]},\n",
       "             return_train_score=True, scoring='roc_auc')"
      ]
     },
     "execution_count": 23,
     "metadata": {},
     "output_type": "execute_result"
    }
   ],
   "source": [
    "alpha_values={'alpha':[0.00001,0.0005,0.0001,0.005,0.001,0.05,0.01,0.1,0.5,1,5,10,50,100]}\n",
    "estimator=MultinomialNB(class_prior=[0.5, 0.5])\n",
    "clf=GridSearchCV(estimator,alpha_values, cv=3, scoring='roc_auc',return_train_score=True)\n",
    "clf.fit(bow_tr,y_train)"
   ]
  },
  {
   "cell_type": "code",
   "execution_count": 24,
   "metadata": {},
   "outputs": [
    {
     "data": {
      "image/png": "[encoded data removed]",
      "text/plain": [
       "<Figure size 432x288 with 1 Axes>"
      ]
     },
     "metadata": {
      "needs_background": "light"
     },
     "output_type": "display_data"
    }
   ],
   "source": [
    "results = pd.DataFrame.from_dict(clf.cv_results_)\n",
    "results = results.sort_values(['param_alpha'])\n",
    "bow_train_auc=results['mean_train_score']\n",
    "bow_test_auc=results['mean_test_score']\n",
    "bow_train_auc_std=results['std_train_score']\n",
    "bow_test_auc_std=results['std_test_score']\n",
    "hyperparameter=results['param_alpha']\n",
    "\n",
    "\n",
    "plt.plot(hyperparameter,bow_train_auc,label='Train AUC',color='red')\n",
    "plt.plot(hyperparameter,bow_test_auc,label='Validation AUC',color='blue')\n",
    "plt.scatter(hyperparameter, bow_train_auc, label='Train AUC points',color='red')\n",
    "plt.scatter(hyperparameter, bow_test_auc, label='Validation AUC points',color='blue')\n",
    "plt.legend()\n",
    "plt.xlabel('Hyperparameter')\n",
    "plt.ylabel('AUC')\n",
    "plt.title('Hyperparameter Vs AUC plot BOW')\n",
    "plt.grid()\n",
    "\n",
    "plt.show()"
   ]
  },
  {
   "cell_type": "markdown",
   "metadata": {},
   "source": [
    "# TFIDF Featurization"
   ]
  },
  {
   "cell_type": "code",
   "execution_count": 25,
   "metadata": {},
   "outputs": [
    {
     "data": {
      "text/plain": [
       "GridSearchCV(cv=3, estimator=MultinomialNB(class_prior=[0.5, 0.5]),\n",
       "             param_grid={'alpha': [1e-05, 0.0005, 0.0001, 0.005, 0.001, 0.05,\n",
       "                                   0.01, 0.1, 0.5, 1, 5, 10, 50, 100]},\n",
       "             return_train_score=True, scoring='roc_auc')"
      ]
     },
     "execution_count": 25,
     "metadata": {},
     "output_type": "execute_result"
    }
   ],
   "source": [
    "alpha_values={'alpha':[0.00001,0.0005,0.0001,0.005,0.001,0.05,0.01,0.1,0.5,1,5,10,50,100]}\n",
    "estimator=MultinomialNB(class_prior=[0.5, 0.5])\n",
    "clf1=GridSearchCV(estimator,alpha_values, cv=3, scoring='roc_auc',return_train_score=True)\n",
    "clf1.fit(tfidf_tr,y_train)"
   ]
  },
  {
   "cell_type": "code",
   "execution_count": 26,
   "metadata": {},
   "outputs": [
    {
     "data": {
      "image/png": "[encoded data removed]",
      "text/plain": [
       "<Figure size 432x288 with 1 Axes>"
      ]
     },
     "metadata": {
      "needs_background": "light"
     },
     "output_type": "display_data"
    }
   ],
   "source": [
    "results = pd.DataFrame.from_dict(clf1.cv_results_)\n",
    "results = results.sort_values(['param_alpha'])\n",
    "tfidf_train_auc=results['mean_train_score']\n",
    "tfidf_test_auc=results['mean_test_score']\n",
    "tfidf_train_auc_std=results['std_train_score']\n",
    "tfidf_test_auc_std=results['std_test_score']\n",
    "hyperparameter=results['param_alpha']\n",
    "\n",
    "\n",
    "plt.plot(hyperparameter,tfidf_train_auc,label='Train AUC',color='red')\n",
    "plt.plot(hyperparameter,tfidf_test_auc,label='Validation AUC',color='blue')\n",
    "plt.scatter(hyperparameter, tfidf_train_auc, label='Train AUC points',color='red')\n",
    "plt.scatter(hyperparameter, tfidf_test_auc, label='Validation AUC points',color='blue')\n",
    "plt.legend()\n",
    "plt.xlabel('Hyperparameter')\n",
    "plt.ylabel('AUC')\n",
    "plt.title('Hyperparameter Vs AUC plot TFIDF')\n",
    "plt.grid()\n",
    "\n",
    "plt.show()"
   ]
  },
  {
   "cell_type": "code",
   "execution_count": 27,
   "metadata": {},
   "outputs": [],
   "source": [
    "def batch_predict(clf, data):\n",
    "    y_pred = []\n",
    "    train_loop = data.shape[0] - data.shape[0]%1000\n",
    "\n",
    "    for i in range(0, train_loop, 1000):\n",
    "        y_pred.extend(clf.predict_proba(data[i:i+1000])[:,1])\n",
    "    if data.shape[0]%1000 !=0:\n",
    "        y_pred.extend(clf.predict_proba(data[train_loop:])[:,1])\n",
    "    \n",
    "    return y_pred"
   ]
  },
  {
   "cell_type": "code",
   "execution_count": 28,
   "metadata": {},
   "outputs": [
    {
     "data": {
      "image/png": "[encoded data removed]",
      "text/plain": [
       "<Figure size 432x288 with 1 Axes>"
      ]
     },
     "metadata": {
      "needs_background": "light"
     },
     "output_type": "display_data"
    }
   ],
   "source": [
    "model=MultinomialNB(alpha=0.001,class_prior=[0.5, 0.5])\n",
    "model.fit(bow_tr,y_train)\n",
    "bow_y_predict=model.predict(bow_test)\n",
    "\n",
    "y_train_predict_bow=batch_predict(model,bow_tr)\n",
    "y_test_predict_bow=batch_predict(model,bow_test)\n",
    "\n",
    "train_fpr, train_tpr, train_thresholds = roc_curve(y_train, y_train_predict_bow)\n",
    "test_fpr, test_tpr, test_thresholds = roc_curve(y_test, y_test_predict_bow)\n",
    "plt.plot(train_fpr, train_tpr, label=\"train AUC =\"+str(auc(train_fpr, train_tpr)))\n",
    "plt.plot(test_fpr, test_tpr, label=\"test AUC =\"+str(auc(test_fpr, test_tpr)))\n",
    "plt.legend()\n",
    "plt.xlabel(\"Hyperparameter\")\n",
    "plt.ylabel(\"AUC\")\n",
    "plt.title(\"ERROR PLOTS FOR BOW\")\n",
    "plt.grid()\n",
    "plt.show()"
   ]
  },
  {
   "cell_type": "code",
   "execution_count": 29,
   "metadata": {},
   "outputs": [
    {
     "data": {
      "image/png": "[encoded data removed]",
      "text/plain": [
       "<Figure size 432x288 with 1 Axes>"
      ]
     },
     "metadata": {
      "needs_background": "light"
     },
     "output_type": "display_data"
    }
   ],
   "source": [
    "model1=MultinomialNB(alpha=0.01,class_prior=[0.5, 0.5])\n",
    "model1.fit(tfidf_tr,y_train)\n",
    "tfidf_y_predict=model1.predict(tfidf_test)\n",
    "\n",
    "y_train_predict_tfidf=batch_predict(model,tfidf_tr)\n",
    "y_test_predict_tfidf=batch_predict(model,tfidf_test)\n",
    "\n",
    "train_fpr, train_tpr, train_thresholds = roc_curve(y_train, y_train_predict_tfidf)\n",
    "test_fpr, test_tpr, test_thresholds = roc_curve(y_test, y_test_predict_tfidf)\n",
    "plt.plot(train_fpr, train_tpr, label=\"train AUC =\"+str(auc(train_fpr, train_tpr)))\n",
    "plt.plot(test_fpr, test_tpr, label=\"test AUC =\"+str(auc(test_fpr, test_tpr)))\n",
    "plt.legend()\n",
    "plt.xlabel(\"Hyperparameter\")\n",
    "plt.ylabel(\"AUC\")\n",
    "plt.title(\"ERROR PLOTS for TFIDF\")\n",
    "plt.grid()\n",
    "plt.show()"
   ]
  },
  {
   "cell_type": "code",
   "execution_count": 30,
   "metadata": {},
   "outputs": [
    {
     "data": {
      "text/plain": [
       "<matplotlib.axes._subplots.AxesSubplot at 0x2a301d2a8b0>"
      ]
     },
     "execution_count": 30,
     "metadata": {},
     "output_type": "execute_result"
    },
    {
     "data": {
      "image/png": "[encoded data removed]",
      "text/plain": [
       "<Figure size 432x288 with 2 Axes>"
      ]
     },
     "metadata": {
      "needs_background": "light"
     },
     "output_type": "display_data"
    }
   ],
   "source": [
    "cm_test_bow = confusion_matrix(y_test,bow_y_predict)\n",
    "sns.heatmap(cm_test_bow, annot=True,fmt=\"d\",cmap='Blues',xticklabels=['Predicted No','Predicted Yes'],yticklabels=['Actual No','Actual Yes'])"
   ]
  },
  {
   "cell_type": "code",
   "execution_count": 31,
   "metadata": {},
   "outputs": [
    {
     "data": {
      "text/plain": [
       "<matplotlib.axes._subplots.AxesSubplot at 0x2a300e3e5b0>"
      ]
     },
     "execution_count": 31,
     "metadata": {},
     "output_type": "execute_result"
    },
    {
     "data": {
      "image/png": "[encoded data removed]",
      "text/plain": [
       "<Figure size 432x288 with 2 Axes>"
      ]
     },
     "metadata": {
      "needs_background": "light"
     },
     "output_type": "display_data"
    }
   ],
   "source": [
    "cm_test_tfidf = confusion_matrix(y_test,tfidf_y_predict)\n",
    "sns.heatmap(cm_test_tfidf, annot=True,fmt=\"d\",cmap='Reds',xticklabels=['Predicted No','Predicted Yes'],yticklabels=['Actual No','Actual Yes'])"
   ]
  },
  {
   "cell_type": "markdown",
   "metadata": {},
   "source": [
    "## TOP 20 FEATURES NEGATIVE "
   ]
  },
  {
   "cell_type": "code",
   "execution_count": 32,
   "metadata": {},
   "outputs": [
    {
     "name": "stdout",
     "output_type": "stream",
     "text": [
      "48376\n"
     ]
    }
   ],
   "source": [
    "negative=model1.feature_log_prob_[0]\n",
    "#print(negative)\n",
    "sorted_negative=sorted(negative, reverse=True)  # sort probability from high to low\n",
    "#print(sorted_negative)\n",
    "sort_neg_indices=negative.argsort()[::-1] # sort indices of log prob\n",
    "print(len(sort_neg_indices))"
   ]
  },
  {
   "cell_type": "code",
   "execution_count": 33,
   "metadata": {},
   "outputs": [
    {
     "data": {
      "text/plain": [
       "['appliedsciences',\n",
       " 'care_hunger',\n",
       " 'charactereducation',\n",
       " 'civics_government',\n",
       " 'college_careerprep',\n",
       " 'communityservice',\n",
       " 'earlydevelopment',\n",
       " 'economics',\n",
       " 'environmentalscience',\n",
       " 'esl',\n",
       " 'extracurricular',\n",
       " 'financialliteracy',\n",
       " 'foreignlanguages',\n",
       " 'gym_fitness',\n",
       " 'health_lifescience',\n",
       " 'health_wellness',\n",
       " 'history_geography',\n",
       " 'literacy',\n",
       " 'literature_writing',\n",
       " 'mathematics']"
      ]
     },
     "execution_count": 33,
     "metadata": {},
     "output_type": "execute_result"
    }
   ],
   "source": [
    "l_neg=[]\n",
    "for feature in x:\n",
    "    for index in sort_neg_indices:\n",
    "        if x[feature].dtype == object: \n",
    "            l_neg.extend(tfidf.get_feature_names())\n",
    "        elif x[feature].dtype == 'int64' or x[feature].dtype == 'float64' :\n",
    "            l_neg.append(feature)\n",
    "l_neg[0:20]"
   ]
  },
  {
   "cell_type": "markdown",
   "metadata": {},
   "source": [
    "## TOP 20 FEATURES Positive "
   ]
  },
  {
   "cell_type": "code",
   "execution_count": 34,
   "metadata": {},
   "outputs": [
    {
     "data": {
      "text/plain": [
       "['appliedsciences',\n",
       " 'care_hunger',\n",
       " 'charactereducation',\n",
       " 'civics_government',\n",
       " 'college_careerprep',\n",
       " 'communityservice',\n",
       " 'earlydevelopment',\n",
       " 'economics',\n",
       " 'environmentalscience',\n",
       " 'esl',\n",
       " 'extracurricular',\n",
       " 'financialliteracy',\n",
       " 'foreignlanguages',\n",
       " 'gym_fitness',\n",
       " 'health_lifescience',\n",
       " 'health_wellness',\n",
       " 'history_geography',\n",
       " 'literacy',\n",
       " 'literature_writing',\n",
       " 'mathematics']"
      ]
     },
     "execution_count": 34,
     "metadata": {},
     "output_type": "execute_result"
    }
   ],
   "source": [
    "positive=model1.feature_log_prob_[1]\n",
    "sorted_positive=sorted(positive, reverse=True)\n",
    "sort_pos_indices=positive.argsort()[::-1]\n",
    "l_pos=[]\n",
    "for feature in x:\n",
    "    for index in sort_pos_indices:\n",
    "        if x[feature].dtype == object: \n",
    "            l_pos.extend(tfidf.get_feature_names())\n",
    "        elif x[feature].dtype == 'int64' or x[feature].dtype == 'float64' :\n",
    "            l_pos.append(feature)\n",
    "l_pos[0:20]"
   ]
  },
  {
   "cell_type": "code",
   "execution_count": 35,
   "metadata": {},
   "outputs": [
    {
     "name": "stdout",
     "output_type": "stream",
     "text": [
      "+-------------------------+--------------------------+---------------------+------+\n",
      "| Vectorization Technique | Hyperparameter Technique | Best Hyperparameter | AUC  |\n",
      "+-------------------------+--------------------------+---------------------+------+\n",
      "| BOW                     | GridSearchCV             | 0.001               | 0.66 |\n",
      "+-------------------------+--------------------------+---------------------+------+\n",
      "| TFIDF                   | GridSearchCV             | 0.01                | 0.62 |\n",
      "+-------------------------+--------------------------+---------------------+------+\n"
     ]
    }
   ],
   "source": [
    "table =[[\"Vectorization Technique\",\"Hyperparameter Technique\",\"Best Hyperparameter\",\"AUC\"],['BOW','GridSearchCV',0.001,0.66],['TFIDF','GridSearchCV',0.01,0.62]]\n",
    "print(tabulate(table,tablefmt=\"grid\"))"
   ]
  },
  {
   "cell_type": "code",
   "execution_count": null,
   "metadata": {},
   "outputs": [],
   "source": []
  }
 ],
 "metadata": {
  "kernelspec": {
   "display_name": "Python 3",
   "language": "python",
   "name": "python3"
  },
  "language_info": {
   "codemirror_mode": {
    "name": "ipython",
    "version": 3
   },
   "file_extension": ".py",
   "mimetype": "text/x-python",
   "name": "python",
   "nbconvert_exporter": "python",
   "pygments_lexer": "ipython3",
   "version": "3.8.3"
  }
 },
 "nbformat": 4,
 "nbformat_minor": 4
}
